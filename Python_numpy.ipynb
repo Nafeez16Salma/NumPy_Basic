{
 "cells": [
  {
   "cell_type": "markdown",
   "metadata": {},
   "source": [
    "## NumPy (Numerical Computing Library for Python)"
   ]
  },
  {
   "cell_type": "markdown",
   "metadata": {},
   "source": [
    "NumPy (Numerical Python) is a library for working with arrays and mathematical operations in Python. It is a fundamental package for scientific computing with Python, providing support for large, multi-dimensional arrays and matrices, along with a wide range of high-performance mathematical functions to manipulate them."
   ]
  },
  {
   "cell_type": "code",
   "execution_count": 1,
   "metadata": {},
   "outputs": [],
   "source": [
    "import numpy as np"
   ]
  },
  {
   "cell_type": "code",
   "execution_count": 2,
   "metadata": {},
   "outputs": [
    {
     "name": "stdout",
     "output_type": "stream",
     "text": [
      "[1 2 3 4 5]\n",
      "[[1 2 3]\n",
      " [4 5 6]]\n"
     ]
    }
   ],
   "source": [
    "# 1D array\n",
    "arr1 = np.array([1, 2, 3, 4, 5])\n",
    "print(arr1)\n",
    "\n",
    "# 2D array\n",
    "arr2 = np.array([[1, 2, 3], [4, 5, 6]])\n",
    "print(arr2)"
   ]
  },
  {
   "cell_type": "code",
   "execution_count": 3,
   "metadata": {},
   "outputs": [
    {
     "name": "stdout",
     "output_type": "stream",
     "text": [
      "1\n",
      "[2 3]\n"
     ]
    }
   ],
   "source": [
    "# Indexing\n",
    "print(arr1[0])\n",
    "\n",
    "# Slicing\n",
    "print(arr1[1:3])"
   ]
  },
  {
   "cell_type": "code",
   "execution_count": 24,
   "metadata": {},
   "outputs": [
    {
     "name": "stdout",
     "output_type": "stream",
     "text": [
      "4\n",
      "6\n",
      "2\n"
     ]
    }
   ],
   "source": [
    "#Accessing rows\n",
    "#[row,element]\n",
    "b= np.array([[1,2,3],[4,5,6]])\n",
    "\n",
    "print(b[1,0])\n",
    "\n",
    "#3D\n",
    "#[array,row,element]\n",
    "c= np.array([[[1,2,3],[4,5,6]],[[7,8,9],[0,1,6]]])\n",
    "\n",
    "print(c[1,1,2]) #6\n",
    "\n",
    "#negative indexing\n",
    "print(b[0,-2]) #2"
   ]
  },
  {
   "cell_type": "code",
   "execution_count": 25,
   "metadata": {},
   "outputs": [
    {
     "name": "stdout",
     "output_type": "stream",
     "text": [
      "[2 4 1]\n",
      "[3 4 5 1]\n",
      "[5 6]\n",
      "[3 6]\n",
      "[[1 2]\n",
      " [4 5]]\n"
     ]
    }
   ],
   "source": [
    "#slicing the array\n",
    "#[start:end:step]\n",
    "\n",
    "a = np.array([1,2,3,4,5,1,7])\n",
    "print(a[1:6:2])\n",
    "print(a[2:-1])\n",
    "\n",
    "#2D\n",
    "b= np.array([[1,2,3],[4,5,6]])\n",
    "\n",
    "print(b[1, 1:]) #[row,slice elements]\n",
    "\n",
    "print(b[0: , 2]) #[starting row till end, get 2nd element from all rows]\n",
    "\n",
    "cd= b[0:2,0:2:1]\n",
    "print(cd)"
   ]
  },
  {
   "cell_type": "code",
   "execution_count": 26,
   "metadata": {},
   "outputs": [
    {
     "name": "stdout",
     "output_type": "stream",
     "text": [
      "['apple' 'banana' 'cherry']\n",
      "<U6\n",
      "[b'apple' b'banana' b'cherry']\n",
      "|S6\n",
      "[1. 2. 3.]\n",
      "float32\n",
      "[0 1 5]\n",
      "int32\n"
     ]
    }
   ],
   "source": [
    "#datatypes\n",
    "\n",
    "sd = np.array(['apple', 'banana', 'cherry'])\n",
    "\n",
    "print(sd)\n",
    "print(sd.dtype)\n",
    "\n",
    "convert = sd.astype('S')\n",
    "print(convert)\n",
    "print(convert.dtype)\n",
    "\n",
    "id= np.array([1,2,3])\n",
    "fl = id.astype('f')\n",
    "print(fl)\n",
    "print(fl.dtype)\n",
    "\n",
    "f= np.array([0.7,1.5,5.7])\n",
    "x= f.astype('i')\n",
    "print(x)\n",
    "print(x.dtype)"
   ]
  },
  {
   "cell_type": "code",
   "execution_count": 4,
   "metadata": {},
   "outputs": [
    {
     "data": {
      "text/plain": [
       "array([[1, 2, 3],\n",
       "       [4, 5, 6],\n",
       "       [7, 8, 9]])"
      ]
     },
     "execution_count": 4,
     "metadata": {},
     "output_type": "execute_result"
    }
   ],
   "source": [
    "my_matrix = [[1,2,3],[4,5,6],[7,8,9]]\n",
    "np.array(my_matrix)"
   ]
  },
  {
   "cell_type": "markdown",
   "metadata": {},
   "source": [
    "** Built-In Methods**"
   ]
  },
  {
   "cell_type": "markdown",
   "metadata": {},
   "source": [
    "***arange***\n",
    "\n",
    "Return evenly spaced values within a given interval."
   ]
  },
  {
   "cell_type": "code",
   "execution_count": 5,
   "metadata": {},
   "outputs": [
    {
     "name": "stdout",
     "output_type": "stream",
     "text": [
      "[0 1 2 3 4 5 6 7 8 9]\n",
      "[ 0  2  4  6  8 10]\n"
     ]
    }
   ],
   "source": [
    "print(np.arange(0,10))\n",
    "print(np.arange(0,11,2))"
   ]
  },
  {
   "cell_type": "markdown",
   "metadata": {},
   "source": [
    "***zeros and ones***\n",
    "\n",
    "Generate arrays of zeros or ones"
   ]
  },
  {
   "cell_type": "code",
   "execution_count": 6,
   "metadata": {},
   "outputs": [
    {
     "name": "stdout",
     "output_type": "stream",
     "text": [
      "[0. 0. 0.]\n",
      "[[0. 0. 0. 0. 0.]\n",
      " [0. 0. 0. 0. 0.]\n",
      " [0. 0. 0. 0. 0.]\n",
      " [0. 0. 0. 0. 0.]\n",
      " [0. 0. 0. 0. 0.]]\n"
     ]
    }
   ],
   "source": [
    "print(np.zeros(3))\n",
    "print(np.zeros((5,5)))"
   ]
  },
  {
   "cell_type": "code",
   "execution_count": 7,
   "metadata": {},
   "outputs": [
    {
     "name": "stdout",
     "output_type": "stream",
     "text": [
      "[1. 1. 1.]\n",
      "[[1. 1. 1.]\n",
      " [1. 1. 1.]\n",
      " [1. 1. 1.]]\n"
     ]
    }
   ],
   "source": [
    "print(np.ones(3))\n",
    "print(np.ones((3,3)))"
   ]
  },
  {
   "cell_type": "markdown",
   "metadata": {},
   "source": [
    "***linspace***\n",
    "Return evenly spaced numbers over a specified interval."
   ]
  },
  {
   "cell_type": "code",
   "execution_count": 8,
   "metadata": {},
   "outputs": [
    {
     "name": "stdout",
     "output_type": "stream",
     "text": [
      "[ 0.  5. 10.]\n",
      "[ 0.          0.20408163  0.40816327  0.6122449   0.81632653  1.02040816\n",
      "  1.2244898   1.42857143  1.63265306  1.83673469  2.04081633  2.24489796\n",
      "  2.44897959  2.65306122  2.85714286  3.06122449  3.26530612  3.46938776\n",
      "  3.67346939  3.87755102  4.08163265  4.28571429  4.48979592  4.69387755\n",
      "  4.89795918  5.10204082  5.30612245  5.51020408  5.71428571  5.91836735\n",
      "  6.12244898  6.32653061  6.53061224  6.73469388  6.93877551  7.14285714\n",
      "  7.34693878  7.55102041  7.75510204  7.95918367  8.16326531  8.36734694\n",
      "  8.57142857  8.7755102   8.97959184  9.18367347  9.3877551   9.59183673\n",
      "  9.79591837 10.        ]\n"
     ]
    }
   ],
   "source": [
    "print(np.linspace(0,10,3))\n",
    "print(np.linspace(0,10,50))"
   ]
  },
  {
   "cell_type": "markdown",
   "metadata": {},
   "source": [
    "***eye***\n",
    "\n",
    "Creates an identity matrix"
   ]
  },
  {
   "cell_type": "code",
   "execution_count": 9,
   "metadata": {},
   "outputs": [
    {
     "data": {
      "text/plain": [
       "array([[1., 0., 0.],\n",
       "       [0., 1., 0.],\n",
       "       [0., 0., 1.]])"
      ]
     },
     "execution_count": 9,
     "metadata": {},
     "output_type": "execute_result"
    }
   ],
   "source": [
    "np.eye(3)"
   ]
  },
  {
   "cell_type": "code",
   "execution_count": 27,
   "metadata": {},
   "outputs": [
    {
     "name": "stdout",
     "output_type": "stream",
     "text": [
      "[2 4 5 7]\n",
      "[2 3 5 7]\n",
      "[2 4 5 7]\n",
      "checking base values\n",
      "[2 4 5 7]\n",
      "None\n"
     ]
    }
   ],
   "source": [
    "#copy vs view\n",
    "\n",
    "a1= np.array([2,3,5,7])\n",
    "ca1= a1.copy()  #copies the elements and stores in ca1 array \n",
    "a1[1]= 4\n",
    "\n",
    "print(a1) #replaces value of first element by 4\n",
    "\n",
    "print(ca1) # doesnt replace the modified value \n",
    "va1= a1.view()\n",
    "print(va1)   #replaces the value in both arrays(the original, view array)\n",
    "\n",
    "print(\"checking base values\")\n",
    "print( va1.base) #doesnot own the data\n",
    "print(ca1.base) #owns the data"
   ]
  },
  {
   "cell_type": "markdown",
   "metadata": {},
   "source": [
    "**Random**"
   ]
  },
  {
   "cell_type": "markdown",
   "metadata": {},
   "source": [
    "***rand***\n",
    "Create an array of the given shape and populate it with\n",
    "random samples from a uniform distribution\n",
    "over ``[0, 1)``."
   ]
  },
  {
   "cell_type": "code",
   "execution_count": 10,
   "metadata": {},
   "outputs": [
    {
     "name": "stdout",
     "output_type": "stream",
     "text": [
      "[[0.5273039  0.21889734 0.56960952]\n",
      " [0.16044647 0.65681605 0.53174591]]\n"
     ]
    }
   ],
   "source": [
    "# Generate a 2x3 array of random numbers\n",
    "random_array = np.random.rand(2, 3)\n",
    "print(random_array)"
   ]
  },
  {
   "cell_type": "markdown",
   "metadata": {},
   "source": [
    "***randn***\n",
    "\n",
    "Return a sample (or samples) from the \"standard normal\" distribution. Unlike rand which is uniform:"
   ]
  },
  {
   "cell_type": "code",
   "execution_count": 11,
   "metadata": {},
   "outputs": [
    {
     "name": "stdout",
     "output_type": "stream",
     "text": [
      "[[ 0.30045202 -1.57760536  1.43846951]\n",
      " [-0.45802339  0.12164249  0.00264544]]\n"
     ]
    }
   ],
   "source": [
    "# Generate a 2x3 array of random numbers from a normal distribution\n",
    "random_array = np.random.randn(2, 3)\n",
    "print(random_array)"
   ]
  },
  {
   "cell_type": "markdown",
   "metadata": {},
   "source": [
    "***randint***\n",
    "Return random integers from `low` (inclusive) to `high` (exclusive)."
   ]
  },
  {
   "cell_type": "code",
   "execution_count": 12,
   "metadata": {},
   "outputs": [
    {
     "name": "stdout",
     "output_type": "stream",
     "text": [
      "[[5 7 0]\n",
      " [9 4 4]]\n"
     ]
    }
   ],
   "source": [
    "# Generate a 2x3 array of random integers between 0 and 10\n",
    "random_array = np.random.randint(0, 10, size=(2, 3))\n",
    "print(random_array)"
   ]
  },
  {
   "cell_type": "markdown",
   "metadata": {},
   "source": [
    "***choice***\n",
    "Generates an array of the given shape and populates it with random samples from the specified array."
   ]
  },
  {
   "cell_type": "code",
   "execution_count": 13,
   "metadata": {},
   "outputs": [
    {
     "name": "stdout",
     "output_type": "stream",
     "text": [
      "[[5 2 2]\n",
      " [5 4 1]]\n"
     ]
    }
   ],
   "source": [
    "# Generate a 2x3 array of random samples from the array [1, 2, 3, 4, 5]\n",
    "random_array = np.random.choice([1, 2, 3, 4, 5], size=(2, 3))\n",
    "print(random_array)"
   ]
  },
  {
   "cell_type": "markdown",
   "metadata": {},
   "source": [
    "***seed***\n",
    "Sets the seed for the random number generator."
   ]
  },
  {
   "cell_type": "code",
   "execution_count": 16,
   "metadata": {},
   "outputs": [
    {
     "name": "stdout",
     "output_type": "stream",
     "text": [
      "[[0.22199317 0.87073231 0.20671916]\n",
      " [0.91861091 0.48841119 0.61174386]]\n"
     ]
    }
   ],
   "source": [
    "# Set the seed for the random number generator\n",
    "np.random.seed(5)\n",
    "\n",
    "# Generate a 2x3 array of random numbers\n",
    "random_array = np.random.rand(2, 3)\n",
    "print(random_array)"
   ]
  },
  {
   "cell_type": "markdown",
   "metadata": {},
   "source": [
    "**max,min,argmax,argmin**"
   ]
  },
  {
   "cell_type": "code",
   "execution_count": 17,
   "metadata": {},
   "outputs": [],
   "source": [
    "arr = np.arange(25)\n",
    "ranarr = np.random.randint(0,50,10)"
   ]
  },
  {
   "cell_type": "code",
   "execution_count": 19,
   "metadata": {},
   "outputs": [
    {
     "data": {
      "text/plain": [
       "array([27, 48, 30, 16,  7, 12, 15, 49, 39, 16], dtype=int32)"
      ]
     },
     "execution_count": 19,
     "metadata": {},
     "output_type": "execute_result"
    }
   ],
   "source": [
    "ranarr"
   ]
  },
  {
   "cell_type": "code",
   "execution_count": 18,
   "metadata": {},
   "outputs": [
    {
     "name": "stdout",
     "output_type": "stream",
     "text": [
      "49\n",
      "7\n",
      "7\n",
      "4\n"
     ]
    }
   ],
   "source": [
    "print(ranarr.max())\n",
    "print(ranarr.argmax())\n",
    "print(ranarr.min())\n",
    "print(ranarr.argmin())"
   ]
  },
  {
   "cell_type": "markdown",
   "metadata": {},
   "source": [
    "**Shape**\n",
    "\n",
    "Shape is an attribute that arrays have (not a method):"
   ]
  },
  {
   "cell_type": "code",
   "execution_count": 20,
   "metadata": {},
   "outputs": [
    {
     "data": {
      "text/plain": [
       "(25,)"
      ]
     },
     "execution_count": 20,
     "metadata": {},
     "output_type": "execute_result"
    }
   ],
   "source": [
    "# Vector\n",
    "arr.shape"
   ]
  },
  {
   "cell_type": "code",
   "execution_count": 21,
   "metadata": {},
   "outputs": [
    {
     "data": {
      "text/plain": [
       "array([[ 0,  1,  2,  3,  4,  5,  6,  7,  8,  9, 10, 11, 12, 13, 14, 15,\n",
       "        16, 17, 18, 19, 20, 21, 22, 23, 24]])"
      ]
     },
     "execution_count": 21,
     "metadata": {},
     "output_type": "execute_result"
    }
   ],
   "source": [
    "# Notice the two sets of brackets\n",
    "arr.reshape(1,25)"
   ]
  },
  {
   "cell_type": "code",
   "execution_count": 22,
   "metadata": {},
   "outputs": [
    {
     "data": {
      "text/plain": [
       "array([[ 0],\n",
       "       [ 1],\n",
       "       [ 2],\n",
       "       [ 3],\n",
       "       [ 4],\n",
       "       [ 5],\n",
       "       [ 6],\n",
       "       [ 7],\n",
       "       [ 8],\n",
       "       [ 9],\n",
       "       [10],\n",
       "       [11],\n",
       "       [12],\n",
       "       [13],\n",
       "       [14],\n",
       "       [15],\n",
       "       [16],\n",
       "       [17],\n",
       "       [18],\n",
       "       [19],\n",
       "       [20],\n",
       "       [21],\n",
       "       [22],\n",
       "       [23],\n",
       "       [24]])"
      ]
     },
     "execution_count": 22,
     "metadata": {},
     "output_type": "execute_result"
    }
   ],
   "source": [
    "arr.reshape(25,1)"
   ]
  },
  {
   "cell_type": "code",
   "execution_count": 28,
   "metadata": {},
   "outputs": [
    {
     "name": "stdout",
     "output_type": "stream",
     "text": [
      "(2, 3)\n",
      "[[1 2 3 4 5 6]]\n",
      "[[1 2]\n",
      " [3 4]\n",
      " [5 6]]\n"
     ]
    }
   ],
   "source": [
    "#shape and reshape of an array\n",
    "\n",
    "b= np.array([[1,2,3],[4,5,6]])\n",
    "print(b.shape)\n",
    "\n",
    "print(b.reshape(1,6))\n",
    "print(b.reshape(3,2))"
   ]
  },
  {
   "cell_type": "code",
   "execution_count": 29,
   "metadata": {},
   "outputs": [
    {
     "name": "stdout",
     "output_type": "stream",
     "text": [
      "[[ 1  2  3]\n",
      " [ 7  9 10]]\n",
      "[1 2 3] 1\n",
      "[1 2 3] 2\n",
      "[1 2 3] 3\n",
      "[ 7  9 10] 7\n",
      "[ 7  9 10] 9\n",
      "[ 7  9 10] 10\n",
      "[[ 1  2  3]\n",
      " [ 7  9 10]] [1 2 3] 1\n",
      "[[ 1  2  3]\n",
      " [ 7  9 10]] [1 2 3] 2\n",
      "[[ 1  2  3]\n",
      " [ 7  9 10]] [1 2 3] 3\n",
      "[[ 1  2  3]\n",
      " [ 7  9 10]] [ 7  9 10] 7\n",
      "[[ 1  2  3]\n",
      " [ 7  9 10]] [ 7  9 10] 9\n",
      "[[ 1  2  3]\n",
      " [ 7  9 10]] [ 7  9 10] 10\n",
      "[[ 1  2  3]\n",
      " [ 7  9 10]] [1 2 3] 1\n",
      "[[ 1  2  3]\n",
      " [ 7  9 10]] [1 2 3] 2\n",
      "[[ 1  2  3]\n",
      " [ 7  9 10]] [1 2 3] 3\n",
      "[[ 1  2  3]\n",
      " [ 7  9 10]] [ 7  9 10] 7\n",
      "[[ 1  2  3]\n",
      " [ 7  9 10]] [ 7  9 10] 9\n",
      "[[ 1  2  3]\n",
      " [ 7  9 10]] [ 7  9 10] 10\n"
     ]
    }
   ],
   "source": [
    "#iterating arrays\n",
    "\n",
    "ar= np.array([[1,2,3],[7,9,10]])\n",
    "print(ar)\n",
    "for x in ar:\n",
    "    for y in x:\n",
    "        print(x,y)\n",
    "        \n",
    "        \n",
    "ar3= np.array([[[1,2,3],[7,9,10]],[[1,2,3],[7,9,10]]])\n",
    "for x in ar3:\n",
    "    for y in x:\n",
    "        for z in y:\n",
    "         print(x,y,z)"
   ]
  },
  {
   "cell_type": "code",
   "execution_count": 30,
   "metadata": {},
   "outputs": [
    {
     "name": "stdout",
     "output_type": "stream",
     "text": [
      "1\n",
      "2\n",
      "3\n",
      "7\n",
      "9\n",
      "10\n",
      "1\n",
      "2\n",
      "3\n",
      "7\n",
      "9\n",
      "10\n",
      "int64\n",
      "np.bytes_(b'1')\n",
      "np.bytes_(b'2')\n",
      "np.bytes_(b'3')\n",
      "|S21\n",
      "sliced array\n",
      "2\n",
      "4\n",
      "9\n",
      "11\n"
     ]
    }
   ],
   "source": [
    "#iterating each element using nditer()\n",
    "\n",
    "ar3= np.array([[[1,2,3],[7,9,10]],[[1,2,3],[7,9,10]]])\n",
    "for x in np.nditer(ar3):\n",
    "    print(x)\n",
    "    \n",
    "    \n",
    "#iterating with different datatypes\n",
    "\n",
    "a = np.array([1,2,3])\n",
    "print(a.dtype)\n",
    "\n",
    "#output of the resulting array is string. \n",
    "#buffered creates an extra space for the string output since it doesnt change the dataype of element inplace\n",
    "\n",
    "for x in np.nditer(a, flags=['buffered'], op_dtypes=['S']):\n",
    "    print(x)\n",
    "    \n",
    "print(x.dtype)\n",
    "\n",
    "\n",
    "#iterating with different stepsize\n",
    "\n",
    "b= np.array([[1,2,3,4,5],[7,9,10,11,12]])\n",
    "print(\"sliced array\")\n",
    "for x in np.nditer(b[:,1:9:2]):\n",
    "    print(x)"
   ]
  },
  {
   "cell_type": "code",
   "execution_count": 31,
   "metadata": {},
   "outputs": [
    {
     "name": "stdout",
     "output_type": "stream",
     "text": [
      "0 1\n",
      "1 2\n",
      "2 3\n",
      "3 4\n",
      "<class 'int'>\n",
      "<class 'numpy.int64'>\n",
      "(0, 0) 1\n",
      "(0, 1) 2\n",
      "(0, 2) 3\n",
      "(0, 3) 4\n",
      "(1, 0) 5\n",
      "(1, 1) 6\n",
      "(1, 2) 7\n",
      "(1, 3) 8\n",
      "<class 'tuple'>\n",
      "<class 'numpy.int64'>\n"
     ]
    }
   ],
   "source": [
    "#iter gives the list elements without index, enumerate gives elements with index\n",
    "list1 = np.array([1,2,3,4])\n",
    "for idx, num in enumerate(list1):\n",
    "    print(idx, num)\n",
    "print(type(idx))\n",
    "print(type(num))\n",
    "    \n",
    "#using ndenumerate, return indexes is a tuple\n",
    "\n",
    "list1 = np.array([[1,2,3,4],[5,6,7,8]])\n",
    "for idx, num in np.ndenumerate(list1):\n",
    "    print(idx, num)\n",
    "    \n",
    "print(type(idx))\n",
    "print(type(num))"
   ]
  },
  {
   "cell_type": "code",
   "execution_count": 32,
   "metadata": {},
   "outputs": [
    {
     "name": "stdout",
     "output_type": "stream",
     "text": [
      "[1 2 3 4 5 6 7 8]\n",
      "[[ 1  2  3  5  6  7]\n",
      " [11 12 13 14 15 16]]\n",
      "resulting array using stack\n",
      "[[1 5]\n",
      " [2 6]\n",
      " [3 7]\n",
      " [4 8]]\n",
      "resulting array using hstack\n",
      "[1 2 3 4 5 6 7 8]\n",
      "resulting array using vstack\n",
      "[[1 2 3 4]\n",
      " [5 6 7 8]]\n",
      "resulting array using dstack\n",
      "[[[1 5]\n",
      "  [2 6]\n",
      "  [3 7]\n",
      "  [4 8]]]\n"
     ]
    }
   ],
   "source": [
    "#Joining arrays\n",
    "\n",
    "#A. using concatenate\n",
    "\n",
    "a= np.array([1,2,3,4])\n",
    "b= np.array([5,6,7,8])\n",
    "\n",
    "resultingarr = np.concatenate((a,b))\n",
    "print(resultingarr)\n",
    "\n",
    "#joining 2D array along an axis\n",
    "\n",
    "a= np.array([[1,2,3],[11,12,13]])\n",
    "b= np.array([[5,6,7],[14,15,16]])\n",
    "\n",
    "resultingarr = np.concatenate((a,b),axis =1)\n",
    "print(resultingarr)\n",
    "\n",
    "#B. using stack function\n",
    "\n",
    "a= np.array([1,2,3,4])\n",
    "b= np.array([5,6,7,8])\n",
    "\n",
    "print(\"resulting array using stack\")\n",
    "resultingarr = np.stack((a,b),axis = 1)\n",
    "print(resultingarr)\n",
    "\n",
    "#hstack - stacks along rows\n",
    "\n",
    "print(\"resulting array using hstack\")\n",
    "resultingarr = np.hstack((a,b))\n",
    "print(resultingarr)\n",
    "\n",
    "#vstack - stacks along columns\n",
    "\n",
    "print(\"resulting array using vstack\")\n",
    "resultingarr = np.vstack((a,b))\n",
    "print(resultingarr)\n",
    "\n",
    "#vstack - stacks along depth/height\n",
    "\n",
    "print(\"resulting array using dstack\")\n",
    "resultingarr = np.dstack((a,b))\n",
    "print(resultingarr)"
   ]
  },
  {
   "cell_type": "code",
   "execution_count": 33,
   "metadata": {},
   "outputs": [
    {
     "name": "stdout",
     "output_type": "stream",
     "text": [
      "[ 1 11  2] [3 4] [5 6]\n",
      "[[[ 1  2  3  4]\n",
      "  [11 12 13  4]]] [[[7 3 9 1]\n",
      "  [1 4 6 7]]] [] []\n"
     ]
    },
    {
     "ename": "ValueError",
     "evalue": "array split does not result in an equal division",
     "output_type": "error",
     "traceback": [
      "\u001b[1;31m---------------------------------------------------------------------------\u001b[0m",
      "\u001b[1;31mValueError\u001b[0m                                Traceback (most recent call last)",
      "Cell \u001b[1;32mIn[33], line 19\u001b[0m\n\u001b[0;32m     14\u001b[0m \u001b[38;5;28mprint\u001b[39m(sa[\u001b[38;5;241m0\u001b[39m],sa[\u001b[38;5;241m1\u001b[39m],sa[\u001b[38;5;241m2\u001b[39m],sa[\u001b[38;5;241m3\u001b[39m])\n\u001b[0;32m     18\u001b[0m \u001b[38;5;66;03m#we get an error here as \"split\" method will not adjust elements. works only when equal ditribution of elements are present.\u001b[39;00m\n\u001b[1;32m---> 19\u001b[0m arr \u001b[38;5;241m=\u001b[39m \u001b[43mnp\u001b[49m\u001b[38;5;241;43m.\u001b[39;49m\u001b[43msplit\u001b[49m\u001b[43m(\u001b[49m\u001b[43mar\u001b[49m\u001b[43m,\u001b[49m\u001b[38;5;241;43m3\u001b[39;49m\u001b[43m)\u001b[49m\n\u001b[0;32m     20\u001b[0m \u001b[38;5;28mprint\u001b[39m(arr[\u001b[38;5;241m0\u001b[39m])\n",
      "File \u001b[1;32mc:\\Users\\nafee\\AppData\\Local\\Programs\\Python\\Python312\\Lib\\site-packages\\numpy\\lib\\_shape_base_impl.py:874\u001b[0m, in \u001b[0;36msplit\u001b[1;34m(ary, indices_or_sections, axis)\u001b[0m\n\u001b[0;32m    872\u001b[0m     N \u001b[38;5;241m=\u001b[39m ary\u001b[38;5;241m.\u001b[39mshape[axis]\n\u001b[0;32m    873\u001b[0m     \u001b[38;5;28;01mif\u001b[39;00m N \u001b[38;5;241m%\u001b[39m sections:\n\u001b[1;32m--> 874\u001b[0m         \u001b[38;5;28;01mraise\u001b[39;00m \u001b[38;5;167;01mValueError\u001b[39;00m(\n\u001b[0;32m    875\u001b[0m             \u001b[38;5;124m'\u001b[39m\u001b[38;5;124marray split does not result in an equal division\u001b[39m\u001b[38;5;124m'\u001b[39m) \u001b[38;5;28;01mfrom\u001b[39;00m \u001b[38;5;28;01mNone\u001b[39;00m\n\u001b[0;32m    876\u001b[0m \u001b[38;5;28;01mreturn\u001b[39;00m array_split(ary, indices_or_sections, axis)\n",
      "\u001b[1;31mValueError\u001b[0m: array split does not result in an equal division"
     ]
    }
   ],
   "source": [
    "#splitting arrays split(array, into how many arrays)\n",
    "\n",
    "ar = np.array([1,11,2,3,4,5,6])\n",
    "\n",
    "sar = np.array_split(ar,3)\n",
    "print(sar[0],sar[1],sar[2])\n",
    "\n",
    "#splitting 2d array\n",
    "\n",
    "a= np.array([[[1,2,3,4],[11,12,13,4]],[[7,3,9,1],[1,4,6,7]]])\n",
    "\n",
    "\n",
    "sa= np.array_split(a,4)\n",
    "print(sa[0],sa[1],sa[2],sa[3])\n",
    "\n",
    "\n",
    "\n",
    "#we get an error here as \"split\" method will not adjust elements. works only when equal ditribution of elements are present.\n",
    "arr = np.split(ar,3)\n",
    "print(arr[0])"
   ]
  },
  {
   "cell_type": "code",
   "execution_count": 34,
   "metadata": {},
   "outputs": [
    {
     "name": "stdout",
     "output_type": "stream",
     "text": [
      "A is located at (array([0]), array([1]))\n",
      "(array([2]),)\n"
     ]
    }
   ],
   "source": [
    "#array search\n",
    "\n",
    "a= np.array([[1,2,3],[4,5,6]])\n",
    "\n",
    "b= np.array([6,7,8,9])\n",
    "\n",
    "search = np.where(a==2)\n",
    "print(\"A is located at\",search)\n",
    "\n",
    "search = np.where(b==8)\n",
    "print(search)\n"
   ]
  },
  {
   "cell_type": "code",
   "execution_count": 35,
   "metadata": {},
   "outputs": [
    {
     "name": "stdout",
     "output_type": "stream",
     "text": [
      "4\n",
      "5\n"
     ]
    }
   ],
   "source": [
    "#searchsorted: binary search- inserts given value in sorted order and returns index of the value inserted.\n",
    "\n",
    "\n",
    "b= np.array([6,7,8,9,11])\n",
    "\n",
    "insert = np.searchsorted(b,10)\n",
    "\n",
    "print(insert)\n",
    "\n",
    "\n",
    "b= np.array([6,7,8,9,7,10,11])\n",
    "\n",
    "\n",
    "insert = np.searchsorted(b,9,side=\"right\")\n",
    "\n",
    "print(insert)"
   ]
  }
 ],
 "metadata": {
  "kernelspec": {
   "display_name": "Python 3",
   "language": "python",
   "name": "python3"
  },
  "language_info": {
   "codemirror_mode": {
    "name": "ipython",
    "version": 3
   },
   "file_extension": ".py",
   "mimetype": "text/x-python",
   "name": "python",
   "nbconvert_exporter": "python",
   "pygments_lexer": "ipython3",
   "version": "3.12.4"
  }
 },
 "nbformat": 4,
 "nbformat_minor": 2
}
